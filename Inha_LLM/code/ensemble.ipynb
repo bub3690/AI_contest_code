{
 "cells": [
  {
   "cell_type": "code",
   "execution_count": null,
   "metadata": {},
   "outputs": [],
   "source": [
    "import pandas as pd\n",
    "\n",
    "\n",
    "# 데이터프레임 로드 (파일에서 읽어올 경우, 파일 경로를 적어주세요)\n",
    "df1 = pd.read_csv('david_prompt_ver4_submission.csv.csv')\n",
    "df2 = pd.read_csv('ko_gemma_prompt_ver1_submission.csv')\n",
    "df3 = pd.read_csv('davidkim205_final_v4.csv')\n",
    "\n",
    "# 데이터프레임을 하나로 합치기\n",
    "df_combined = pd.concat([df1, df2, df3], ignore_index=True)\n",
    "\n",
    "# 'id'를 기준으로 그룹화하여 'answer' 값을 처리\n",
    "def resolve_answer(answers):\n",
    "    # 답변을 리스트로 변환\n",
    "    answers_list = answers.tolist()\n",
    "    \n",
    "    # 고유한 답변을 집합으로 만들고 리스트로 변환\n",
    "    unique_answers = list(set(answers_list))\n",
    "    \n",
    "    # 답변이 모두 다를 경우\n",
    "    if len(unique_answers) == 3:\n",
    "        return min(unique_answers, key=len)\n",
    "    \n",
    "    # 2개 이상이 같은 경우\n",
    "    for answer in unique_answers:\n",
    "        if answers_list.count(answer) >= 2:\n",
    "            return answer\n",
    "\n",
    "    # 기본적으로는 가장 짧은 답변을 반환 (이론적으로 도달하지 않음)\n",
    "    return min(unique_answers, key=len)\n",
    "\n",
    "# 그룹화하여 answer 처리\n",
    "df_final = df_combined.groupby('id')['answer'].apply(resolve_answer).reset_index()\n",
    "\n",
    "# 결과를 CSV로 저장\n",
    "df_final.to_csv('ensemble_output.csv', index=False)\n"
   ]
  }
 ],
 "metadata": {
  "language_info": {
   "name": "python"
  }
 },
 "nbformat": 4,
 "nbformat_minor": 2
}
